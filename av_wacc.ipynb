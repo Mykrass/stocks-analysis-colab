{
 "cells": [
  {
   "cell_type": "markdown",
   "id": "27c6e2db-b617-4085-bb5d-d19a3fce68d0",
   "metadata": {},
   "source": [
    "## Import packages"
   ]
  },
  {
   "cell_type": "code",
   "execution_count": 68,
   "id": "bd3253cc-f4e5-475f-8052-f6e4c855af2c",
   "metadata": {},
   "outputs": [],
   "source": [
    "import requests\n",
    "import pandas as pd\n",
    "\n",
    "# Reading properties\n",
    "from jproperties import Properties\n",
    "\n",
    "# To get Bond rates\n",
    "import yfinance as yf"
   ]
  },
  {
   "cell_type": "markdown",
   "id": "6f48aca3-478c-44e7-9766-46d0691c7ea4",
   "metadata": {},
   "source": [
    "## Constants"
   ]
  },
  {
   "cell_type": "code",
   "execution_count": 69,
   "id": "ef3c1019-9a5e-4b3c-a2ce-4564f8fc357f",
   "metadata": {},
   "outputs": [],
   "source": [
    "BASE_URL = 'https://www.alphavantage.co/query?'"
   ]
  },
  {
   "cell_type": "markdown",
   "id": "78f98b0a-d45f-461a-94c3-c0389dec51dd",
   "metadata": {},
   "source": [
    "## Load properties"
   ]
  },
  {
   "cell_type": "code",
   "execution_count": 70,
   "id": "0c9e7e69-3a4c-4333-8d6a-a590c4b1f025",
   "metadata": {},
   "outputs": [],
   "source": [
    "# Initial;ize from property file\n",
    "configs = Properties()\n",
    "\n",
    "with open('config/av_wacc.properties', 'rb') as config_file:\n",
    "     configs.load(config_file)\n",
    "\n",
    "TICKER = configs.get('TICKER').data\n",
    "# Market return is read as a string; we need to convert it to float\n",
    "MKT_RETURN = float(configs.get('MKT_RETURN').data)\n",
    "BOND_TICKER = configs.get('BOND_TICKER').data\n",
    "API_KEY = configs.get('ALPHAV_API_KEY').data"
   ]
  },
  {
   "cell_type": "markdown",
   "id": "6e83d747-a11d-4b32-a4d6-b101496be078",
   "metadata": {},
   "source": [
    "## Utility method to get data from AV"
   ]
  },
  {
   "cell_type": "code",
   "execution_count": 71,
   "id": "634ce756-7948-4bb3-b742-f508b1568552",
   "metadata": {},
   "outputs": [],
   "source": [
    "def get_response(function):\n",
    "    return requests.get(f'{BASE_URL}function={function}&symbol={TICKER}&apikey={API_KEY}')"
   ]
  },
  {
   "cell_type": "markdown",
   "id": "b6e73b06-8fea-409f-86e3-c60e8798eabf",
   "metadata": {},
   "source": [
    "## Get income statements from Alpha Vantage"
   ]
  },
  {
   "cell_type": "code",
   "execution_count": 72,
   "id": "e8eca1f6-7a1a-4360-9577-ba94d364ef7a",
   "metadata": {},
   "outputs": [],
   "source": [
    "# Income response\n",
    "latest_income_stmt = get_response('INCOME_STATEMENT').json()['annualReports'][0]\n",
    "\n",
    "# Balance sheet response\n",
    "latest_balance_sheet = get_response('BALANCE_SHEET').json()['annualReports'][0]\n",
    "\n",
    "# Overview for Beta\n",
    "overview = get_response('OVERVIEW').json()"
   ]
  },
  {
   "cell_type": "markdown",
   "id": "df48d27b-7a74-4e63-b6e5-87f308b31971",
   "metadata": {},
   "source": [
    "## Cost of Debt Calculation"
   ]
  },
  {
   "cell_type": "code",
   "execution_count": 73,
   "id": "d9515d67-8c9a-4a0e-91eb-92be5c8fd382",
   "metadata": {},
   "outputs": [],
   "source": [
    "# Interest Expense\n",
    "interest_expense = pd.to_numeric(latest_income_stmt['interestExpense'])\n",
    "\n",
    "# Income Tax Expense\n",
    "income_tax = pd.to_numeric(latest_income_stmt['incomeTaxExpense'])\n",
    "\n",
    "# Income before tax\n",
    "income_before_tax = pd.to_numeric(latest_income_stmt['incomeBeforeTax'])\n",
    "\n",
    "# Current debt\n",
    "current_debt = pd.to_numeric(latest_balance_sheet['shortTermDebt'])\n",
    "\n",
    "# Long term debt\n",
    "long_term_debt = pd.to_numeric(latest_balance_sheet['longTermDebtNoncurrent'])\n",
    "\n",
    "# Cost of debt\n",
    "cost_of_debt = interest_expense / (current_debt + long_term_debt)\n",
    "\n",
    "# Effective tax rate\n",
    "effective_tax_rate = income_tax / income_before_tax\n",
    "\n",
    "# Cost of debt after tax\n",
    "cost_of_debt_after_tax = cost_of_debt * (1 - effective_tax_rate)"
   ]
  },
  {
   "cell_type": "markdown",
   "id": "4379d841-c20a-4aee-82da-faff7cd62d72",
   "metadata": {},
   "source": [
    "## Cost of Equity Calculation"
   ]
  },
  {
   "cell_type": "code",
   "execution_count": 74,
   "id": "c3d9d5f3-8ebd-4c13-b579-fc4b7703a391",
   "metadata": {},
   "outputs": [],
   "source": [
    "# US Treasury Yield 10 years\n",
    "tnx = yf.Ticker(BOND_TICKER)\n",
    "# Yield rate\n",
    "risk_free_rate = tnx.info['regularMarketDayHigh']/100\n",
    "\n",
    "# Beta\n",
    "beta = pd.to_numeric(overview['Beta'])\n",
    "\n",
    "# Cost of equity\n",
    "cost_of_equity = risk_free_rate + (beta * (MKT_RETURN - risk_free_rate))"
   ]
  },
  {
   "cell_type": "markdown",
   "id": "35c7b5d5-5b35-4a9b-8cf2-bb56f5789a1f",
   "metadata": {},
   "source": [
    "## Weight of Debt and Equity Calculation"
   ]
  },
  {
   "cell_type": "code",
   "execution_count": 75,
   "id": "e5614a91-a162-44ce-bbfd-b37415f44b6d",
   "metadata": {},
   "outputs": [],
   "source": [
    "total_debt = current_debt + long_term_debt\n",
    "\n",
    "market_cap = pd.to_numeric(overview['MarketCapitalization'])\n",
    "total = total_debt + market_cap\n",
    "\n",
    "# Calculate the weight of debt and equity\n",
    "weight_of_debt = total_debt / total\n",
    "weight_of_equity = market_cap / total"
   ]
  },
  {
   "cell_type": "markdown",
   "id": "8c9d19bf-aa35-47af-b06d-c617ccc44cb3",
   "metadata": {},
   "source": [
    "## WACC Calculation"
   ]
  },
  {
   "cell_type": "code",
   "execution_count": 93,
   "id": "44bf85ae-58cb-4cb6-ab55-cdc801338db7",
   "metadata": {},
   "outputs": [
    {
     "data": {
      "text/plain": [
       "'7.99% for ticker: MSFT'"
      ]
     },
     "execution_count": 93,
     "metadata": {},
     "output_type": "execute_result"
    }
   ],
   "source": [
    "wacc = (weight_of_debt * cost_of_debt_after_tax) + (weight_of_equity * cost_of_equity)\n",
    "'{:.2%}'.format(round(wacc,4)) + ' for ticker: ' + TICKER"
   ]
  },
  {
   "cell_type": "code",
   "execution_count": null,
   "id": "aa94b84a-bb7c-421a-a9f4-424b5aae5424",
   "metadata": {},
   "outputs": [],
   "source": []
  }
 ],
 "metadata": {
  "kernelspec": {
   "display_name": "Python 3 (ipykernel)",
   "language": "python",
   "name": "python3"
  },
  "language_info": {
   "codemirror_mode": {
    "name": "ipython",
    "version": 3
   },
   "file_extension": ".py",
   "mimetype": "text/x-python",
   "name": "python",
   "nbconvert_exporter": "python",
   "pygments_lexer": "ipython3",
   "version": "3.11.4"
  }
 },
 "nbformat": 4,
 "nbformat_minor": 5
}
