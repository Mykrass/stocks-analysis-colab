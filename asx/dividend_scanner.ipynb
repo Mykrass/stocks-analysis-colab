{
 "cells": [
  {
   "cell_type": "code",
   "execution_count": 1,
   "id": "fad9895a-5ddc-40ab-95bb-a83bb2b25112",
   "metadata": {},
   "outputs": [],
   "source": [
    "#!pip install xlsxwriter"
   ]
  },
  {
   "cell_type": "markdown",
   "id": "6ccc74dd-5def-4667-9670-9bd53f147b7a",
   "metadata": {},
   "source": [
    "## Imports"
   ]
  },
  {
   "cell_type": "code",
   "execution_count": 2,
   "id": "f082ef72-b199-41a8-9fb1-db8040dbcfdb",
   "metadata": {},
   "outputs": [],
   "source": [
    "# Read stocks\n",
    "import yfinance as yf\n",
    "\n",
    "# Access DataFrame\n",
    "import pandas as pd"
   ]
  },
  {
   "cell_type": "markdown",
   "id": "5cf31774-5ec6-4634-a9e9-2c9ab5317bba",
   "metadata": {},
   "source": [
    "## Sector Configuration"
   ]
  },
  {
   "cell_type": "code",
   "execution_count": 3,
   "id": "22b7ce3e-b611-49f2-9eaa-f149bd964f81",
   "metadata": {},
   "outputs": [],
   "source": [
    "# This is the sector we are interested, for example, finsvcs, energy etc.\n",
    "SECTOR_CODE = 'finsvcs'"
   ]
  },
  {
   "cell_type": "markdown",
   "id": "9457c2cb-bfca-4633-a6ea-94b15612cb22",
   "metadata": {},
   "source": [
    "## Other Configurations"
   ]
  },
  {
   "cell_type": "code",
   "execution_count": 4,
   "id": "d35d8ad1-cdbc-4d18-9154-e497659dc23d",
   "metadata": {},
   "outputs": [],
   "source": [
    "# Output will go to the out/sector_code.xlsx\n",
    "OUTPUT = f'out/{SECTOR_CODE}.xlsx'\n",
    "METRICS = ['ROE','Yield','DIV Growth','Payout Ratio','P/E Ratio']\n",
    "\n",
    "# Load tickers\n",
    "with open(f'symbols/{SECTOR_CODE}.txt') as file:\n",
    "    data = file.read()\n",
    "SYMBOLS = data.split()\n",
    "\n",
    "# Load all the rules as a DF\n",
    "RULES_DF = pd.read_csv('config/rules.csv', sep='|')"
   ]
  },
  {
   "cell_type": "markdown",
   "id": "ff20b740-47ec-44c2-a5ef-ac23991c935e",
   "metadata": {},
   "source": [
    "## Collect Metrics data"
   ]
  },
  {
   "cell_type": "code",
   "execution_count": 5,
   "id": "8555104b-4434-40c2-9f56-ecb912e14f2b",
   "metadata": {},
   "outputs": [],
   "source": [
    "# DF to collect exclusions\n",
    "key_metrics_ex_df = pd.DataFrame()\n",
    "# Initialize list with empty dictionaries. This collects raw metrics data for each metric\n",
    "raw_metrics = [{} for sub in range(len(METRICS))]\n",
    "# Placeholder to collect company names; symbol -> long name\n",
    "comp_name_dict = {}\n",
    "\n",
    "for symbol in SYMBOLS:\n",
    "    ticker = yf.Ticker(symbol)\n",
    "\n",
    "    # Company name\n",
    "    comp_name_dict[symbol] = ticker.info['longName']\n",
    "    \n",
    "    #1 Return on equity\n",
    "    if 'returnOnEquity' in ticker.info:\n",
    "        raw_metrics[0][symbol] = round(ticker.info['returnOnEquity'] * 100,2)\n",
    "    else:\n",
    "        new_row = {'Symbol':symbol, 'Metric':METRICS[0], 'Reason':'Missing Return on equity'}\n",
    "        key_metrics_ex_df = pd.concat([key_metrics_ex_df, pd.DataFrame([new_row])], ignore_index=True)\n",
    "\n",
    "    #2 Yield\n",
    "    if 'dividendYield' in ticker.info:\n",
    "        raw_metrics[1][symbol] = round(ticker.info['dividendYield'] * 100, 2)\n",
    "    else:\n",
    "        new_row = {'Symbol':symbol, 'Metric':METRICS[1], 'Reason':'Missing Dividend Yield'}\n",
    "        key_metrics_ex_df = pd.concat([key_metrics_ex_df, pd.DataFrame([new_row])], ignore_index=True)\n",
    "\n",
    "    #3 Dividend growth forecast\n",
    "    if 'dividendYield' in ticker.info and 'trailingAnnualDividendYield' in ticker.info:\n",
    "        fwd_div_yield = ticker.info['dividendYield']\n",
    "        trailing_div_yield = ticker.info['trailingAnnualDividendYield']\n",
    "        if trailing_div_yield > 0:\n",
    "            raw_metrics[2][symbol] = round((((fwd_div_yield/trailing_div_yield) - 1) * 100), 2)\n",
    "        else:\n",
    "            new_row = {'Symbol':symbol, 'Metric':METRICS[2], 'Reason':'Trailing Dividend Yield is negative'}\n",
    "            key_metrics_ex_df = pd.concat([key_metrics_ex_df, pd.DataFrame([new_row])], ignore_index=True)\n",
    "            \n",
    "    else:\n",
    "        new_row = {'Symbol':symbol, 'Metric':METRICS[2], 'Reason':'Unable to calculate Dividend growth forecast'}\n",
    "        key_metrics_ex_df = pd.concat([key_metrics_ex_df, pd.DataFrame([new_row])], ignore_index=True)\n",
    "\n",
    "    #4 Payout ratio\n",
    "    if 'payoutRatio' in ticker.info:\n",
    "        raw_metrics[3][symbol] = round(ticker.info['payoutRatio'] * 100, 2)\n",
    "    else:\n",
    "        new_row = {'Symbol':symbol, 'Metric':METRICS[3], 'Reason':'Missing Payout ratio'}\n",
    "        key_metrics_ex_df = pd.concat([key_metrics_ex_df, pd.DataFrame([new_row])], ignore_index=True)\n",
    "\n",
    "    #5 Price to earnings ratio\n",
    "    if 'forwardPE' in ticker.info:\n",
    "        raw_metrics[4][symbol] = round(ticker.info['forwardPE'], 2)\n",
    "    else:\n",
    "        new_row = {'Symbol':symbol, 'Metric':METRICS[4], 'Reason':'Missing P/E ratio'}\n",
    "        key_metrics_ex_df = pd.concat([key_metrics_ex_df, pd.DataFrame([new_row])], ignore_index=True)"
   ]
  },
  {
   "cell_type": "markdown",
   "id": "b4539822-c446-4dea-bd5a-6b1d78251036",
   "metadata": {},
   "source": [
    "## Create a DF from raw metrics"
   ]
  },
  {
   "cell_type": "code",
   "execution_count": 6,
   "id": "7c59c960-882a-419c-8738-32af21fc2f36",
   "metadata": {},
   "outputs": [],
   "source": [
    "# DF to collect value key metrics for all the tickers\n",
    "key_metrics_df = pd.DataFrame()\n",
    "\n",
    "for idx in range(len(METRICS)):\n",
    "    key_metrics_df[METRICS[idx]] = raw_metrics[idx]\n",
    "\n",
    "# Add the ticker name as a column\n",
    "key_metrics_df['Name'] = comp_name_dict"
   ]
  },
  {
   "cell_type": "markdown",
   "id": "30616e9e-9cde-49ff-9320-c0b2633f91cd",
   "metadata": {},
   "source": [
    "## Apply Rules"
   ]
  },
  {
   "cell_type": "code",
   "execution_count": 8,
   "id": "83010773-fd94-492f-8790-589922c18553",
   "metadata": {},
   "outputs": [],
   "source": [
    "# List to collect rules results\n",
    "rules = []\n",
    "# Rule #1 - Return on equity greater than 10%\n",
    "rules.append(key_metrics_df['ROE'] > 10)\n",
    "# Rule #2 - Yield greater than 4.0%\n",
    "rules.append(key_metrics_df['Yield'] > 4.0)\n",
    "# Rule #3 - Dividend growth forecast to increase\n",
    "rules.append(key_metrics_df['DIV Growth'] > 0)\n",
    "# Rule #4 - Payout ratio less than 75%\n",
    "rules.append(key_metrics_df['Payout Ratio'] < 75)\n",
    "# Rule #5 - Price to earnings ratio less than 20x\n",
    "rules.append(key_metrics_df['P/E Ratio'] < 20)"
   ]
  },
  {
   "cell_type": "markdown",
   "id": "69067028-6701-4040-8bda-71f9db5c61db",
   "metadata": {},
   "source": [
    "## Utility method to create an Excel Rules sheet"
   ]
  },
  {
   "cell_type": "code",
   "execution_count": 9,
   "id": "1d84670f-c57e-4890-a823-620e58e0a5a0",
   "metadata": {},
   "outputs": [],
   "source": [
    "# Create a Rules sheet\n",
    "# writer- Excel writer\n",
    "# id - rules id (starting with 0)\n",
    "# header_format - formatting for the header\n",
    "# desc_format - formatter for description cell\n",
    "def create_rule_sheet(writer, id, header_format, desc_format):\n",
    "    workbook  = writer.book\n",
    "    # Create a worksheet\n",
    "    sheet_name = f'Rule {id+1}'\n",
    "    worksheet = workbook.add_worksheet(sheet_name)\n",
    "    worksheet.write(1, 5, 'Description')\n",
    "    # ID is starting with 1\n",
    "    worksheet.write(1, 6, RULES_DF.iloc[id]['Description'], desc_format)\n",
    "    \n",
    "    # Write the column headers with the defined format.\n",
    "    for idx, value in enumerate(METRICS):\n",
    "        worksheet.write(3, idx+1, value, header_format)\n",
    "\n",
    "    # Write the table contents without headers, starting row 4\n",
    "    key_metrics_df[rules[id]].to_excel(writer, sheet_name=sheet_name, startrow=4, header=False)\n",
    "    worksheet.autofit()"
   ]
  },
  {
   "cell_type": "markdown",
   "id": "b4281e7c-59a7-4d95-950a-ec26176a2ab7",
   "metadata": {},
   "source": [
    "## Generate the Excel output"
   ]
  },
  {
   "cell_type": "code",
   "execution_count": 10,
   "id": "b520a514-1698-42d1-a908-8b563972fb1e",
   "metadata": {},
   "outputs": [],
   "source": [
    "with pd.ExcelWriter(OUTPUT, engine='xlsxwriter') as writer:\n",
    "    workbook  = writer.book\n",
    "    \n",
    "    # The format for table headers\n",
    "    header_format = workbook.add_format(\n",
    "        {'text_wrap': True, 'valign': 'top', 'fg_color': '#D7E4BC', 'border': 1}\n",
    "    )\n",
    "    # The format for the description\n",
    "    desc_format = workbook.add_format(\n",
    "        {'border': 1, 'fg_color': '#D6EAF8'}\n",
    "    )\n",
    "\n",
    "    # Outcome Worksheet ----------------------------------------------------------\n",
    "    sheet_name = 'Outcome'\n",
    "    worksheet = workbook.add_worksheet(sheet_name)        \n",
    "    \n",
    "    # Write the column headers with the defined format.\n",
    "    for idx, value in enumerate(METRICS):\n",
    "        worksheet.write(1, idx+1, value, header_format)\n",
    "\n",
    "    # Calculate the outcome by applying indiviudal rule outcomes. Start with Rule 1\n",
    "    outcome = rules[0]\n",
    "    for rule in rules[1:]:\n",
    "        outcome = outcome & rule\n",
    "    # Write the table contents without headers, starting row 2\n",
    "    key_metrics_df[outcome].to_excel(writer, sheet_name=sheet_name, startrow=2, header=False)\n",
    "    worksheet.autofit()\n",
    "\n",
    "    # Rules id worksheets, 1,2, 3, 4 and 5 ---------------------------------------\n",
    "    for idx in range(len(rules)):\n",
    "        create_rule_sheet(writer, idx, header_format, desc_format)\n",
    "\n",
    "    # Rules Matrix worksheet -----------------------------------------------------\n",
    "    sheet_name = 'Rules Matrix'\n",
    "    worksheet = workbook.add_worksheet(sheet_name)\n",
    "\n",
    "    # Holds data for Rules matrix\n",
    "    matrix_dict = {}\n",
    "    for idx in range(len(rules)):\n",
    "        matrix_dict[f'Rule {idx+1}'] = rules[idx]\n",
    "    # Rules Matrix header\n",
    "    for idx, key in enumerate(matrix_dict):\n",
    "        worksheet.write(1, idx+1, key, header_format)\n",
    "\n",
    "    # Rules Matrix table details (without the header)\n",
    "    rules_matrix_df = pd.DataFrame(matrix_dict)\n",
    "    # Add the ticker name as a column\n",
    "    rules_matrix_df['Name'] = comp_name_dict\n",
    "    rules_matrix_df.to_excel(writer, sheet_name=sheet_name, startrow=2, header=False)\n",
    "    worksheet.autofit()\n",
    "    \n",
    "    # Rules worksheet --------------------------------------------------------------\n",
    "    worksheet = workbook.add_worksheet('Rules')        \n",
    "    for idx, value in enumerate(RULES_DF.columns.values):\n",
    "        worksheet.write(1, idx, value, header_format)\n",
    "\n",
    "    # Cells are text wrapped\n",
    "    cell_format = workbook.add_format({'text_wrap': True})\n",
    "    for idx, row in RULES_DF.iterrows():\n",
    "        for col, value in enumerate(RULES_DF.columns.values):\n",
    "            worksheet.write(idx+2, col, row[value], cell_format)\n",
    "\n",
    "    # Increase the column widths to accomodate text\n",
    "    worksheet.set_column(1, 1, 30)\n",
    "    worksheet.set_column(2, 2, 130)\n",
    "    \n",
    "    # Increase the row height\n",
    "    for index in range(5):\n",
    "        worksheet.set_row(index+2, 30)"
   ]
  },
  {
   "cell_type": "code",
   "execution_count": 11,
   "id": "c825f520-5bc6-4f23-b604-04dddb3af4c2",
   "metadata": {},
   "outputs": [
    {
     "data": {
      "text/html": [
       "<div>\n",
       "<style scoped>\n",
       "    .dataframe tbody tr th:only-of-type {\n",
       "        vertical-align: middle;\n",
       "    }\n",
       "\n",
       "    .dataframe tbody tr th {\n",
       "        vertical-align: top;\n",
       "    }\n",
       "\n",
       "    .dataframe thead th {\n",
       "        text-align: right;\n",
       "    }\n",
       "</style>\n",
       "<table border=\"1\" class=\"dataframe\">\n",
       "  <thead>\n",
       "    <tr style=\"text-align: right;\">\n",
       "      <th></th>\n",
       "      <th>Symbol</th>\n",
       "      <th>Metric</th>\n",
       "      <th>Reason</th>\n",
       "    </tr>\n",
       "  </thead>\n",
       "  <tbody>\n",
       "    <tr>\n",
       "      <th>0</th>\n",
       "      <td>AFI.AX</td>\n",
       "      <td>P/E Ratio</td>\n",
       "      <td>Missing P/E ratio</td>\n",
       "    </tr>\n",
       "    <tr>\n",
       "      <th>1</th>\n",
       "      <td>JHG.AX</td>\n",
       "      <td>P/E Ratio</td>\n",
       "      <td>Missing P/E ratio</td>\n",
       "    </tr>\n",
       "    <tr>\n",
       "      <th>2</th>\n",
       "      <td>ARG.AX</td>\n",
       "      <td>P/E Ratio</td>\n",
       "      <td>Missing P/E ratio</td>\n",
       "    </tr>\n",
       "    <tr>\n",
       "      <th>3</th>\n",
       "      <td>AMP.AX</td>\n",
       "      <td>Payout Ratio</td>\n",
       "      <td>Missing Payout ratio</td>\n",
       "    </tr>\n",
       "    <tr>\n",
       "      <th>4</th>\n",
       "      <td>BFL.AX</td>\n",
       "      <td>DIV Growth</td>\n",
       "      <td>Trailing Dividend Yield is negative</td>\n",
       "    </tr>\n",
       "    <tr>\n",
       "      <th>5</th>\n",
       "      <td>BFL.AX</td>\n",
       "      <td>P/E Ratio</td>\n",
       "      <td>Missing P/E ratio</td>\n",
       "    </tr>\n",
       "  </tbody>\n",
       "</table>\n",
       "</div>"
      ],
      "text/plain": [
       "   Symbol        Metric                               Reason\n",
       "0  AFI.AX     P/E Ratio                    Missing P/E ratio\n",
       "1  JHG.AX     P/E Ratio                    Missing P/E ratio\n",
       "2  ARG.AX     P/E Ratio                    Missing P/E ratio\n",
       "3  AMP.AX  Payout Ratio                 Missing Payout ratio\n",
       "4  BFL.AX    DIV Growth  Trailing Dividend Yield is negative\n",
       "5  BFL.AX     P/E Ratio                    Missing P/E ratio"
      ]
     },
     "execution_count": 11,
     "metadata": {},
     "output_type": "execute_result"
    }
   ],
   "source": [
    "key_metrics_ex_df"
   ]
  }
 ],
 "metadata": {
  "kernelspec": {
   "display_name": "Python 3 (ipykernel)",
   "language": "python",
   "name": "python3"
  },
  "language_info": {
   "codemirror_mode": {
    "name": "ipython",
    "version": 3
   },
   "file_extension": ".py",
   "mimetype": "text/x-python",
   "name": "python",
   "nbconvert_exporter": "python",
   "pygments_lexer": "ipython3",
   "version": "3.11.4"
  }
 },
 "nbformat": 4,
 "nbformat_minor": 5
}
