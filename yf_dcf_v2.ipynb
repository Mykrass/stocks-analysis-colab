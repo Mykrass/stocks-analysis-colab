{
 "cells": [
  {
   "cell_type": "code",
   "execution_count": 80,
   "id": "37e40f75-2ba4-4b0f-a314-afb754581fe1",
   "metadata": {},
   "outputs": [],
   "source": [
    "# !pip install numpy-financial"
   ]
  },
  {
   "cell_type": "markdown",
   "id": "6534ce8a-7d0e-4de7-bfeb-8888eb63b234",
   "metadata": {},
   "source": [
    "## Imports"
   ]
  },
  {
   "cell_type": "code",
   "execution_count": 81,
   "id": "40c263b2-bf19-400b-9b60-6d182244ee30",
   "metadata": {},
   "outputs": [],
   "source": [
    "# Read stocks\n",
    "import yfinance as yf\n",
    "\n",
    "# To get analysts info\n",
    "import yahoo_fin.stock_info as si\n",
    "\n",
    "# Required to calculate net present value\n",
    "import numpy_financial as npf\n",
    "\n",
    "# For reading properties\n",
    "from jproperties import Properties"
   ]
  },
  {
   "cell_type": "markdown",
   "id": "96275e84-7c2b-46a3-b5b7-9e152b178283",
   "metadata": {},
   "source": [
    "## Load properties"
   ]
  },
  {
   "cell_type": "code",
   "execution_count": 82,
   "id": "76600bc8-ce10-4ed1-88d8-3c472e0b0bdf",
   "metadata": {},
   "outputs": [],
   "source": [
    "configs = Properties()\n",
    "\n",
    "with open('config/yf_dcf.properties', 'rb') as config_file:\n",
    "     configs.load(config_file)\n",
    "\n",
    "TICKER = configs.get('TICKER').data\n",
    "# Perpetual growth rates is read as a string; we need to convert it to float\n",
    "PERP_GROWTH_RATE = float(configs.get('PERP_GROWTH_RATE').data)\n",
    "WACC_RATE = float(configs.get('WACC_RATE').data)"
   ]
  },
  {
   "cell_type": "markdown",
   "id": "704042c1-54e4-4ca6-912c-9d751d6e3cc7",
   "metadata": {},
   "source": [
    "## Constants"
   ]
  },
  {
   "cell_type": "code",
   "execution_count": 83,
   "id": "8b2e0bc0-aaa8-4707-afa0-4e28842bc477",
   "metadata": {},
   "outputs": [],
   "source": [
    "PROJECTION_YEARS = 5"
   ]
  },
  {
   "cell_type": "markdown",
   "id": "694d0398-02a3-4d69-92c0-de0e5c49c550",
   "metadata": {},
   "source": [
    "## Get Growth Rate"
   ]
  },
  {
   "cell_type": "code",
   "execution_count": 84,
   "id": "c8bba570-7dda-42d3-bb43-e3b595a28793",
   "metadata": {},
   "outputs": [
    {
     "data": {
      "text/plain": [
       "0.0636"
      ]
     },
     "execution_count": 84,
     "metadata": {},
     "output_type": "execute_result"
    }
   ],
   "source": [
    "growth_est_df = si.get_analysts_info(TICKER)['Growth Estimates']\n",
    "growth_str = growth_est_df[growth_est_df['Growth Estimates'] == 'Next 5 Years (per annum)'][TICKER].iloc[0]\n",
    "growth_rate = round(float(growth_str.rstrip('%')) / 100.0, 4)\n",
    "growth_rate"
   ]
  },
  {
   "cell_type": "markdown",
   "id": "9d47942d-856b-4c70-bd92-383e15a831b8",
   "metadata": {},
   "source": [
    "## Calculate Change in WC"
   ]
  },
  {
   "cell_type": "code",
   "execution_count": 85,
   "id": "133e888c-9166-409e-9aa6-a10043c373c5",
   "metadata": {},
   "outputs": [],
   "source": [
    "def calculate_cwc(balance_sheet):\n",
    "    # Calculate the current wc\n",
    "    payable_wc = balance_sheet.loc['Accounts Payable'][0] - balance_sheet.loc['Accounts Payable'][1]\n",
    "    receivable_wc = balance_sheet.loc['Receivables'][0] - balance_sheet.loc['Receivables'][1]\n",
    "    inventory_wc = balance_sheet.loc['Inventory'][0] - balance_sheet.loc['Inventory'][1]\n",
    "    return payable_wc - receivable_wc - inventory_wc"
   ]
  },
  {
   "cell_type": "markdown",
   "id": "c7e5f955-ca2c-4892-93e8-3f8fea7d87ed",
   "metadata": {},
   "source": [
    "## Calculate FCF"
   ]
  },
  {
   "cell_type": "code",
   "execution_count": 86,
   "id": "a0f1bec4-a9b9-420f-8b56-efa5176e1ac6",
   "metadata": {},
   "outputs": [],
   "source": [
    "# Using yfinance to get other data\n",
    "ticker = yf.Ticker(TICKER)\n",
    "\n",
    "income_stmt_df = ticker.income_stmt\n",
    "balance_sheet_df = ticker.balance_sheet\n",
    "cash_flow_df = ticker.cash_flow\n",
    "\n",
    "ebit = income_stmt_df.loc['EBIT'][0]\n",
    "tax_rate = income_stmt_df.loc['Tax Rate For Calcs'][0]\n",
    "\n",
    "# Change in working capital\n",
    "cwc = calculate_cwc(balance_sheet_df)\n",
    "\n",
    "depreciation_amoritization = cash_flow_df.loc['Depreciation And Amortization'][0]\n",
    "cap_exp = cash_flow_df.loc['Capital Expenditure'][0]\n",
    "\n",
    "# Calculate Unlevered Free Cash Flow \n",
    "ul_fcf = (ebit * (1-tax_rate)) + depreciation_amoritization + cwc + cap_exp"
   ]
  },
  {
   "cell_type": "markdown",
   "id": "4af7bef3-963d-4002-8d96-0bb160c14b7a",
   "metadata": {},
   "source": [
    "## Future Free Cash Flow"
   ]
  },
  {
   "cell_type": "code",
   "execution_count": 87,
   "id": "5ba333b3-11cb-4213-94ee-533919e52e42",
   "metadata": {},
   "outputs": [],
   "source": [
    "ffcf = []\n",
    "\n",
    "# Year 1\n",
    "ffcf.append(ul_fcf * (1 + growth_rate))\n",
    "\n",
    "# Starting from 2nd year\n",
    "for i in range(1, PROJECTION_YEARS):\n",
    "    ffcf.append(ffcf[i-1] * (1 + growth_rate))"
   ]
  },
  {
   "cell_type": "markdown",
   "id": "d54fd4ec-d7d5-4dac-a46e-e783ba3cc3c5",
   "metadata": {},
   "source": [
    "## Calculate the Terminal Value"
   ]
  },
  {
   "cell_type": "code",
   "execution_count": 88,
   "id": "5a1fbea7-f93d-45c5-a433-aa8cd698b9b2",
   "metadata": {},
   "outputs": [],
   "source": [
    "# forecast_fcf[-1] refers to the last year in the growth period\n",
    "terminal_value = ffcf[-1] * (1 + PERP_GROWTH_RATE)/(WACC_RATE - PERP_GROWTH_RATE)\n",
    "# ffcf.append(terminal_value)"
   ]
  },
  {
   "cell_type": "markdown",
   "id": "ad7d2661-811f-4ab3-9763-a8915ec66aac",
   "metadata": {},
   "source": [
    "## Enterprise Valuation"
   ]
  },
  {
   "cell_type": "code",
   "execution_count": 89,
   "id": "9a4ef9ca-98da-46e8-be79-74b46864314d",
   "metadata": {},
   "outputs": [],
   "source": [
    "# Add the terminal value to the last year\n",
    "ffcf[-1] = ffcf[-1] + terminal_value\n",
    "\n",
    "# Calculate dcf using npv - add zero or else the method assumes\n",
    "# first value as the initial investment\n",
    "enterprise_value = npf.npv(WACC_RATE, [0] + ffcf)\n",
    "# enterprise_value = sum(pv_ffcf)"
   ]
  },
  {
   "cell_type": "markdown",
   "id": "89117bce-5a84-46d9-9318-38b9f94c2ba5",
   "metadata": {},
   "source": [
    "## Company Valuation"
   ]
  },
  {
   "cell_type": "code",
   "execution_count": 90,
   "id": "4915ad8d-5498-45ea-9935-c86561e51309",
   "metadata": {},
   "outputs": [],
   "source": [
    "# Calculate Cash And Cash Equivalents\n",
    "balance_sheet_df = ticker.balance_sheet\n",
    "cash_and_equivalents = balance_sheet_df.loc['Cash And Cash Equivalents'][0]\n",
    "\n",
    "# Current debt - only interested in the value\n",
    "current_debt = balance_sheet_df.loc['Current Debt'][0]\n",
    "\n",
    "# Long term debt - only interested in the value\n",
    "long_term_debt = balance_sheet_df.loc['Long Term Debt'][0]\n",
    "\n",
    "# Equity value -> enterprise_value + cash - total debt\n",
    "equity_value = enterprise_value + cash_and_equivalents - (current_debt +  long_term_debt)"
   ]
  },
  {
   "cell_type": "markdown",
   "id": "6174dc19-c237-4be6-9416-a64c4ef28d92",
   "metadata": {},
   "source": [
    "## Intrinsic Valuation"
   ]
  },
  {
   "cell_type": "code",
   "execution_count": 91,
   "id": "086ae66f-f3a7-4d55-b0a2-14c9ec87e56d",
   "metadata": {},
   "outputs": [
    {
     "data": {
      "text/plain": [
       "'$107.41 for ticker: AAPL'"
      ]
     },
     "execution_count": 91,
     "metadata": {},
     "output_type": "execute_result"
    }
   ],
   "source": [
    "# Shares outstanding\n",
    "shares_outstanding = ticker.info['sharesOutstanding']\n",
    "\n",
    "# Intrinsic value\n",
    "intrinsic_value = equity_value / shares_outstanding\n",
    "'${:.2f}'.format(round(intrinsic_value,2)) + ' for ticker: ' + TICKER"
   ]
  },
  {
   "cell_type": "code",
   "execution_count": 92,
   "id": "f8e971d4-9ef6-4bfc-bb1a-82ac7995bae5",
   "metadata": {},
   "outputs": [
    {
     "data": {
      "text/plain": [
       "'-38.45% for ticker: AAPL'"
      ]
     },
     "execution_count": 92,
     "metadata": {},
     "output_type": "execute_result"
    }
   ],
   "source": [
    "current_price = ticker.info['currentPrice']\n",
    "upside = (intrinsic_value / current_price) - 1\n",
    "'{:.2%}'.format(round(upside,4)) + ' for ticker: ' + TICKER"
   ]
  },
  {
   "cell_type": "code",
   "execution_count": 93,
   "id": "df14565b-9fda-4dc0-8b5c-b0383111dea3",
   "metadata": {},
   "outputs": [
    {
     "name": "stdout",
     "output_type": "stream",
     "text": [
      "SELL\n"
     ]
    }
   ],
   "source": [
    "if intrinsic_value > current_price:\n",
    "    print('BUY')\n",
    "else:\n",
    "    print('SELL')"
   ]
  },
  {
   "cell_type": "markdown",
   "id": "053d0e23-6589-4220-940d-2d13cb4ce637",
   "metadata": {},
   "source": [
    "## Enterprise Valuation - alternative"
   ]
  },
  {
   "cell_type": "code",
   "execution_count": 94,
   "id": "a9dc64e5-fbf9-4c53-92eb-ddc1232beb4b",
   "metadata": {},
   "outputs": [
    {
     "data": {
      "text/plain": [
       "1785779807525.2454"
      ]
     },
     "execution_count": 94,
     "metadata": {},
     "output_type": "execute_result"
    }
   ],
   "source": [
    "# This is another way of calculating PV of FFCF - sum of it should match the npv calculation of npf\n",
    "pv_ffcf = []\n",
    "for idx, x in enumerate(ffcf):\n",
    "    pv_ffcf.append(x/(1 + WACC_RATE)**(idx+1))\n",
    "# This is equivalent to dcf\n",
    "sum(pv_ffcf)"
   ]
  },
  {
   "cell_type": "code",
   "execution_count": null,
   "id": "58bf9ecc-bd7a-45ab-915c-0310cb50dcc6",
   "metadata": {},
   "outputs": [],
   "source": []
  }
 ],
 "metadata": {
  "kernelspec": {
   "display_name": "Python 3 (ipykernel)",
   "language": "python",
   "name": "python3"
  },
  "language_info": {
   "codemirror_mode": {
    "name": "ipython",
    "version": 3
   },
   "file_extension": ".py",
   "mimetype": "text/x-python",
   "name": "python",
   "nbconvert_exporter": "python",
   "pygments_lexer": "ipython3",
   "version": "3.11.4"
  }
 },
 "nbformat": 4,
 "nbformat_minor": 5
}
