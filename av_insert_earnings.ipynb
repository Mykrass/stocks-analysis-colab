{
 "cells": [
  {
   "cell_type": "markdown",
   "id": "27c6e2db-b617-4085-bb5d-d19a3fce68d0",
   "metadata": {},
   "source": [
    "## Import packages"
   ]
  },
  {
   "cell_type": "code",
   "execution_count": 16,
   "id": "bd3253cc-f4e5-475f-8052-f6e4c855af2c",
   "metadata": {},
   "outputs": [],
   "source": [
    "import requests\n",
    "import pandas as pd\n",
    "import numpy as np\n",
    "\n",
    "# python mongo libraries\n",
    "import pymongo\n",
    "\n",
    "# Reading properties\n",
    "from jproperties import Properties\n",
    "\n",
    "from datetime import datetime"
   ]
  },
  {
   "cell_type": "markdown",
   "id": "6f48aca3-478c-44e7-9766-46d0691c7ea4",
   "metadata": {},
   "source": [
    "## Constants"
   ]
  },
  {
   "cell_type": "code",
   "execution_count": 17,
   "id": "ef3c1019-9a5e-4b3c-a2ce-4564f8fc357f",
   "metadata": {},
   "outputs": [],
   "source": [
    "FUNCTION = 'EARNINGS'\n",
    "BASE_URL = 'https://www.alphavantage.co/query?'\n",
    "\n",
    "# List of fields we need to convert from string to float\n",
    "FIELDS_TO_FLOAT = [\n",
    "     'reportedEPS','estimatedEPS','surprise','surprisePercentage'\n",
    "]"
   ]
  },
  {
   "cell_type": "markdown",
   "id": "78f98b0a-d45f-461a-94c3-c0389dec51dd",
   "metadata": {},
   "source": [
    "## Load properties"
   ]
  },
  {
   "cell_type": "code",
   "execution_count": 18,
   "id": "0c9e7e69-3a4c-4333-8d6a-a590c4b1f025",
   "metadata": {},
   "outputs": [],
   "source": [
    "# Initialize from property file\n",
    "configs = Properties()\n",
    "\n",
    "with open('config/insert_earnings.properties', 'rb') as config_file:\n",
    "     configs.load(config_file)\n",
    "\n",
    "TICKERS = configs.get('TICKERS').data.split(',')\n",
    "API_KEY = configs.get('ALPHAV_API_KEY').data\n",
    "MONGO_URI = configs.get('MONGO_URI').data\n",
    "DB = configs.get('DB').data\n",
    "ANNUAL_COLLECTION = configs.get('ANNUAL_COLLECTION').data\n",
    "QUARTERLY_COLLECTION = configs.get('QUARTERLY_COLLECTION').data"
   ]
  },
  {
   "cell_type": "markdown",
   "id": "b6e73b06-8fea-409f-86e3-c60e8798eabf",
   "metadata": {},
   "source": [
    "## Get income statements from Alpha Vantage"
   ]
  },
  {
   "cell_type": "code",
   "execution_count": 19,
   "id": "e8eca1f6-7a1a-4360-9577-ba94d364ef7a",
   "metadata": {},
   "outputs": [],
   "source": [
    "# Holds earnings data for each symbol\n",
    "earnings = {}\n",
    "\n",
    "# Get earnings for each stock ticker\n",
    "for ticker in TICKERS:\n",
    "    response = requests.get(f'{BASE_URL}function={FUNCTION}&symbol={ticker}&apikey={API_KEY}')\n",
    "    earnings[ticker] = response.json()"
   ]
  },
  {
   "cell_type": "markdown",
   "id": "4379d841-c20a-4aee-82da-faff7cd62d72",
   "metadata": {},
   "source": [
    "## Utility method to create a DF\n",
    "#### __Note:__ it uses the global variable earnings_"
   ]
  },
  {
   "cell_type": "code",
   "execution_count": 20,
   "id": "631c96ca-bd42-4963-a8f4-17eeb01da2e6",
   "metadata": {},
   "outputs": [],
   "source": [
    "def create_ticker_df(ticker, report_type):\n",
    "    if report_type.upper() == 'Q':\n",
    "        df_ticker = pd.DataFrame(earnings[ticker]['quarterlyEarnings'])\n",
    "        # Convert reported date which is only applicable to quarterly earnings from string\n",
    "        df_ticker['reportedDate'] = pd.to_datetime(df_ticker['reportedDate'])\n",
    "    \n",
    "        for field in FIELDS_TO_FLOAT:\n",
    "            # non numeric are converted to NaN\n",
    "            df_ticker[field] = pd.to_numeric(df_ticker[field], errors='coerce')\n",
    "    elif report_type.upper() == 'A':\n",
    "        df_ticker = pd.DataFrame(earnings[ticker]['annualEarnings'])\n",
    "        # Only reportedEPS is present for Annual\n",
    "        df_ticker['reportedEPS'] = pd.to_numeric(df_ticker['reportedEPS'], errors='coerce')\n",
    "    else:\n",
    "        raise Exception('Unknown report type, valid types are Q or A')\n",
    "        \n",
    "    # Add a column for the ticker\n",
    "    df_ticker['ticker'] = ticker\n",
    "\n",
    "    # Convert to dates which are in strings in raw format\n",
    "    df_ticker['fiscalDateEnding'] = pd.to_datetime(df_ticker['fiscalDateEnding'])\n",
    "\n",
    "    # # Sort by dates - we want the oldest date first\n",
    "    df_ticker = df_ticker.sort_values('fiscalDateEnding')\n",
    "    \n",
    "    return df_ticker"
   ]
  },
  {
   "cell_type": "markdown",
   "id": "35c7b5d5-5b35-4a9b-8cf2-bb56f5789a1f",
   "metadata": {},
   "source": [
    "## Create DataFrame containing Annual and Quarterly earnings"
   ]
  },
  {
   "cell_type": "code",
   "execution_count": 21,
   "id": "e5614a91-a162-44ce-bbfd-b37415f44b6d",
   "metadata": {},
   "outputs": [],
   "source": [
    "# DFs to collect all the annual and quarterly earnings for tickers\n",
    "df_annual = pd.DataFrame()\n",
    "df_quarterly = pd.DataFrame()\n",
    "\n",
    "# Loop through earnings dictionary which holds earnings for each ticker symbol        \n",
    "for ticker in earnings:\n",
    "    df_annual = pd.concat([df_annual, create_ticker_df(ticker, 'A')])\n",
    "    df_quarterly = pd.concat([df_quarterly, create_ticker_df(ticker, 'Q')])"
   ]
  },
  {
   "cell_type": "markdown",
   "id": "8c9d19bf-aa35-47af-b06d-c617ccc44cb3",
   "metadata": {},
   "source": [
    "## Reset the index to ticker + fiscal date"
   ]
  },
  {
   "cell_type": "code",
   "execution_count": 22,
   "id": "44bf85ae-58cb-4cb6-ab55-cdc801338db7",
   "metadata": {
    "scrolled": true
   },
   "outputs": [
    {
     "data": {
      "text/html": [
       "<div>\n",
       "<style scoped>\n",
       "    .dataframe tbody tr th:only-of-type {\n",
       "        vertical-align: middle;\n",
       "    }\n",
       "\n",
       "    .dataframe tbody tr th {\n",
       "        vertical-align: top;\n",
       "    }\n",
       "\n",
       "    .dataframe thead th {\n",
       "        text-align: right;\n",
       "    }\n",
       "</style>\n",
       "<table border=\"1\" class=\"dataframe\">\n",
       "  <thead>\n",
       "    <tr style=\"text-align: right;\">\n",
       "      <th></th>\n",
       "      <th></th>\n",
       "      <th>fiscalDateEnding</th>\n",
       "      <th>reportedDate</th>\n",
       "      <th>reportedEPS</th>\n",
       "      <th>estimatedEPS</th>\n",
       "      <th>surprise</th>\n",
       "      <th>surprisePercentage</th>\n",
       "      <th>ticker</th>\n",
       "    </tr>\n",
       "    <tr>\n",
       "      <th>fiscalDateEnding</th>\n",
       "      <th>ticker</th>\n",
       "      <th></th>\n",
       "      <th></th>\n",
       "      <th></th>\n",
       "      <th></th>\n",
       "      <th></th>\n",
       "      <th></th>\n",
       "      <th></th>\n",
       "    </tr>\n",
       "  </thead>\n",
       "  <tbody>\n",
       "    <tr>\n",
       "      <th>1996-03-31</th>\n",
       "      <th>INTC</th>\n",
       "      <td>1996-03-31</td>\n",
       "      <td>1996-04-15</td>\n",
       "      <td>0.13</td>\n",
       "      <td>0.12</td>\n",
       "      <td>0.01</td>\n",
       "      <td>8.3333</td>\n",
       "      <td>INTC</td>\n",
       "    </tr>\n",
       "    <tr>\n",
       "      <th>1996-06-30</th>\n",
       "      <th>INTC</th>\n",
       "      <td>1996-06-30</td>\n",
       "      <td>1996-07-16</td>\n",
       "      <td>0.15</td>\n",
       "      <td>0.14</td>\n",
       "      <td>0.01</td>\n",
       "      <td>7.1429</td>\n",
       "      <td>INTC</td>\n",
       "    </tr>\n",
       "    <tr>\n",
       "      <th>1996-09-30</th>\n",
       "      <th>INTC</th>\n",
       "      <td>1996-09-30</td>\n",
       "      <td>1996-10-14</td>\n",
       "      <td>0.19</td>\n",
       "      <td>0.16</td>\n",
       "      <td>0.03</td>\n",
       "      <td>18.7500</td>\n",
       "      <td>INTC</td>\n",
       "    </tr>\n",
       "    <tr>\n",
       "      <th>1996-12-31</th>\n",
       "      <th>INTC</th>\n",
       "      <td>1996-12-31</td>\n",
       "      <td>1997-01-14</td>\n",
       "      <td>0.27</td>\n",
       "      <td>0.23</td>\n",
       "      <td>0.04</td>\n",
       "      <td>17.3913</td>\n",
       "      <td>INTC</td>\n",
       "    </tr>\n",
       "    <tr>\n",
       "      <th>1997-03-31</th>\n",
       "      <th>INTC</th>\n",
       "      <td>1997-03-31</td>\n",
       "      <td>1997-04-14</td>\n",
       "      <td>0.28</td>\n",
       "      <td>0.26</td>\n",
       "      <td>0.02</td>\n",
       "      <td>7.6923</td>\n",
       "      <td>INTC</td>\n",
       "    </tr>\n",
       "  </tbody>\n",
       "</table>\n",
       "</div>"
      ],
      "text/plain": [
       "                        fiscalDateEnding reportedDate  reportedEPS  \\\n",
       "fiscalDateEnding ticker                                              \n",
       "1996-03-31       INTC         1996-03-31   1996-04-15         0.13   \n",
       "1996-06-30       INTC         1996-06-30   1996-07-16         0.15   \n",
       "1996-09-30       INTC         1996-09-30   1996-10-14         0.19   \n",
       "1996-12-31       INTC         1996-12-31   1997-01-14         0.27   \n",
       "1997-03-31       INTC         1997-03-31   1997-04-14         0.28   \n",
       "\n",
       "                         estimatedEPS  surprise  surprisePercentage ticker  \n",
       "fiscalDateEnding ticker                                                     \n",
       "1996-03-31       INTC            0.12      0.01              8.3333   INTC  \n",
       "1996-06-30       INTC            0.14      0.01              7.1429   INTC  \n",
       "1996-09-30       INTC            0.16      0.03             18.7500   INTC  \n",
       "1996-12-31       INTC            0.23      0.04             17.3913   INTC  \n",
       "1997-03-31       INTC            0.26      0.02              7.6923   INTC  "
      ]
     },
     "execution_count": 22,
     "metadata": {},
     "output_type": "execute_result"
    }
   ],
   "source": [
    "# When setting the index, fiscal date ending and ticker are retained as columns; we need them in the collection\n",
    "df_annual.set_index(['fiscalDateEnding', 'ticker'], drop=False, inplace=True)\n",
    "df_quarterly.set_index(['fiscalDateEnding', 'ticker'], drop=False, inplace=True)\n",
    "df_quarterly.head()"
   ]
  },
  {
   "cell_type": "markdown",
   "id": "97e57691-95a1-4d80-a1e7-26f48141f6b0",
   "metadata": {},
   "source": [
    "## Check Annual earnings"
   ]
  },
  {
   "cell_type": "code",
   "execution_count": 23,
   "id": "d59a8219-418a-4697-8dc2-efe90daa27fe",
   "metadata": {},
   "outputs": [
    {
     "data": {
      "text/html": [
       "<div>\n",
       "<style scoped>\n",
       "    .dataframe tbody tr th:only-of-type {\n",
       "        vertical-align: middle;\n",
       "    }\n",
       "\n",
       "    .dataframe tbody tr th {\n",
       "        vertical-align: top;\n",
       "    }\n",
       "\n",
       "    .dataframe thead th {\n",
       "        text-align: right;\n",
       "    }\n",
       "</style>\n",
       "<table border=\"1\" class=\"dataframe\">\n",
       "  <thead>\n",
       "    <tr style=\"text-align: right;\">\n",
       "      <th></th>\n",
       "      <th></th>\n",
       "      <th>fiscalDateEnding</th>\n",
       "      <th>reportedEPS</th>\n",
       "      <th>ticker</th>\n",
       "    </tr>\n",
       "    <tr>\n",
       "      <th>fiscalDateEnding</th>\n",
       "      <th>ticker</th>\n",
       "      <th></th>\n",
       "      <th></th>\n",
       "      <th></th>\n",
       "    </tr>\n",
       "  </thead>\n",
       "  <tbody>\n",
       "    <tr>\n",
       "      <th>1996-12-31</th>\n",
       "      <th>INTC</th>\n",
       "      <td>1996-12-31</td>\n",
       "      <td>0.74</td>\n",
       "      <td>INTC</td>\n",
       "    </tr>\n",
       "    <tr>\n",
       "      <th>1997-12-31</th>\n",
       "      <th>INTC</th>\n",
       "      <td>1997-12-31</td>\n",
       "      <td>0.98</td>\n",
       "      <td>INTC</td>\n",
       "    </tr>\n",
       "    <tr>\n",
       "      <th>1998-12-31</th>\n",
       "      <th>INTC</th>\n",
       "      <td>1998-12-31</td>\n",
       "      <td>0.89</td>\n",
       "      <td>INTC</td>\n",
       "    </tr>\n",
       "    <tr>\n",
       "      <th>1999-12-31</th>\n",
       "      <th>INTC</th>\n",
       "      <td>1999-12-31</td>\n",
       "      <td>1.19</td>\n",
       "      <td>INTC</td>\n",
       "    </tr>\n",
       "    <tr>\n",
       "      <th>2000-12-31</th>\n",
       "      <th>INTC</th>\n",
       "      <td>2000-12-31</td>\n",
       "      <td>1.65</td>\n",
       "      <td>INTC</td>\n",
       "    </tr>\n",
       "  </tbody>\n",
       "</table>\n",
       "</div>"
      ],
      "text/plain": [
       "                        fiscalDateEnding  reportedEPS ticker\n",
       "fiscalDateEnding ticker                                     \n",
       "1996-12-31       INTC         1996-12-31         0.74   INTC\n",
       "1997-12-31       INTC         1997-12-31         0.98   INTC\n",
       "1998-12-31       INTC         1998-12-31         0.89   INTC\n",
       "1999-12-31       INTC         1999-12-31         1.19   INTC\n",
       "2000-12-31       INTC         2000-12-31         1.65   INTC"
      ]
     },
     "execution_count": 23,
     "metadata": {},
     "output_type": "execute_result"
    }
   ],
   "source": [
    "df_annual.head()"
   ]
  },
  {
   "cell_type": "markdown",
   "id": "b60317ad-c604-46b4-b192-7f1f13853cd8",
   "metadata": {},
   "source": [
    "# Sanity check #1\n",
    "### with other another Ticker"
   ]
  },
  {
   "cell_type": "code",
   "execution_count": 24,
   "id": "004ac795-b0b6-4f12-ab98-9157af3fa24e",
   "metadata": {},
   "outputs": [
    {
     "data": {
      "text/html": [
       "<div>\n",
       "<style scoped>\n",
       "    .dataframe tbody tr th:only-of-type {\n",
       "        vertical-align: middle;\n",
       "    }\n",
       "\n",
       "    .dataframe tbody tr th {\n",
       "        vertical-align: top;\n",
       "    }\n",
       "\n",
       "    .dataframe thead th {\n",
       "        text-align: right;\n",
       "    }\n",
       "</style>\n",
       "<table border=\"1\" class=\"dataframe\">\n",
       "  <thead>\n",
       "    <tr style=\"text-align: right;\">\n",
       "      <th></th>\n",
       "      <th></th>\n",
       "      <th>fiscalDateEnding</th>\n",
       "      <th>reportedDate</th>\n",
       "      <th>reportedEPS</th>\n",
       "      <th>estimatedEPS</th>\n",
       "      <th>surprise</th>\n",
       "      <th>surprisePercentage</th>\n",
       "      <th>ticker</th>\n",
       "    </tr>\n",
       "    <tr>\n",
       "      <th>fiscalDateEnding</th>\n",
       "      <th>ticker</th>\n",
       "      <th></th>\n",
       "      <th></th>\n",
       "      <th></th>\n",
       "      <th></th>\n",
       "      <th></th>\n",
       "      <th></th>\n",
       "      <th></th>\n",
       "    </tr>\n",
       "  </thead>\n",
       "  <tbody>\n",
       "    <tr>\n",
       "      <th>1996-03-31</th>\n",
       "      <th>AMD</th>\n",
       "      <td>1996-03-31</td>\n",
       "      <td>1996-04-09</td>\n",
       "      <td>0.09</td>\n",
       "      <td>0.15</td>\n",
       "      <td>-0.06</td>\n",
       "      <td>-40.0000</td>\n",
       "      <td>AMD</td>\n",
       "    </tr>\n",
       "    <tr>\n",
       "      <th>1996-06-30</th>\n",
       "      <th>AMD</th>\n",
       "      <td>1996-06-30</td>\n",
       "      <td>1996-07-10</td>\n",
       "      <td>-0.16</td>\n",
       "      <td>-0.11</td>\n",
       "      <td>-0.05</td>\n",
       "      <td>-45.4545</td>\n",
       "      <td>AMD</td>\n",
       "    </tr>\n",
       "    <tr>\n",
       "      <th>1996-09-30</th>\n",
       "      <th>AMD</th>\n",
       "      <td>1996-09-30</td>\n",
       "      <td>1996-10-07</td>\n",
       "      <td>-0.12</td>\n",
       "      <td>-0.18</td>\n",
       "      <td>0.06</td>\n",
       "      <td>33.3333</td>\n",
       "      <td>AMD</td>\n",
       "    </tr>\n",
       "    <tr>\n",
       "      <th>1996-12-31</th>\n",
       "      <th>AMD</th>\n",
       "      <td>1996-12-31</td>\n",
       "      <td>1997-01-13</td>\n",
       "      <td>-0.07</td>\n",
       "      <td>-0.10</td>\n",
       "      <td>0.03</td>\n",
       "      <td>30.0000</td>\n",
       "      <td>AMD</td>\n",
       "    </tr>\n",
       "    <tr>\n",
       "      <th>1997-03-31</th>\n",
       "      <th>AMD</th>\n",
       "      <td>1997-03-31</td>\n",
       "      <td>1997-04-07</td>\n",
       "      <td>0.05</td>\n",
       "      <td>-0.01</td>\n",
       "      <td>0.06</td>\n",
       "      <td>600.0000</td>\n",
       "      <td>AMD</td>\n",
       "    </tr>\n",
       "  </tbody>\n",
       "</table>\n",
       "</div>"
      ],
      "text/plain": [
       "                        fiscalDateEnding reportedDate  reportedEPS  \\\n",
       "fiscalDateEnding ticker                                              \n",
       "1996-03-31       AMD          1996-03-31   1996-04-09         0.09   \n",
       "1996-06-30       AMD          1996-06-30   1996-07-10        -0.16   \n",
       "1996-09-30       AMD          1996-09-30   1996-10-07        -0.12   \n",
       "1996-12-31       AMD          1996-12-31   1997-01-13        -0.07   \n",
       "1997-03-31       AMD          1997-03-31   1997-04-07         0.05   \n",
       "\n",
       "                         estimatedEPS  surprise  surprisePercentage ticker  \n",
       "fiscalDateEnding ticker                                                     \n",
       "1996-03-31       AMD             0.15     -0.06            -40.0000    AMD  \n",
       "1996-06-30       AMD            -0.11     -0.05            -45.4545    AMD  \n",
       "1996-09-30       AMD            -0.18      0.06             33.3333    AMD  \n",
       "1996-12-31       AMD            -0.10      0.03             30.0000    AMD  \n",
       "1997-03-31       AMD            -0.01      0.06            600.0000    AMD  "
      ]
     },
     "execution_count": 24,
     "metadata": {},
     "output_type": "execute_result"
    }
   ],
   "source": [
    "df_quarterly[df_quarterly['ticker'] == 'AMD'].head()"
   ]
  },
  {
   "cell_type": "markdown",
   "id": "1bad29d6-c65d-4ae8-a500-6969b853bddf",
   "metadata": {},
   "source": [
    "## Insert Annual and Quarterly Earnings to MongoDB"
   ]
  },
  {
   "cell_type": "code",
   "execution_count": 25,
   "id": "2d46b197-cd58-4f57-872a-f9e371b16422",
   "metadata": {},
   "outputs": [],
   "source": [
    "# Initialize mongo client\n",
    "client = pymongo.MongoClient(MONGO_URI)\n",
    "\n",
    "with client:\n",
    "    # The database\n",
    "    db = client[DB]\n",
    "    db[ANNUAL_COLLECTION].insert_many(df_annual.to_dict('records'))\n",
    "    db[QUARTERLY_COLLECTION].insert_many(df_quarterly.to_dict('records'))"
   ]
  },
  {
   "cell_type": "code",
   "execution_count": null,
   "id": "5961e426-6b58-4d20-83fc-0f1292ca9e97",
   "metadata": {},
   "outputs": [],
   "source": []
  }
 ],
 "metadata": {
  "kernelspec": {
   "display_name": "Python 3 (ipykernel)",
   "language": "python",
   "name": "python3"
  },
  "language_info": {
   "codemirror_mode": {
    "name": "ipython",
    "version": 3
   },
   "file_extension": ".py",
   "mimetype": "text/x-python",
   "name": "python",
   "nbconvert_exporter": "python",
   "pygments_lexer": "ipython3",
   "version": "3.11.4"
  }
 },
 "nbformat": 4,
 "nbformat_minor": 5
}
