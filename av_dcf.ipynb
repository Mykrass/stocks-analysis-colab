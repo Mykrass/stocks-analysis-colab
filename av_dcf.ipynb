{
 "cells": [
  {
   "cell_type": "code",
   "execution_count": 78,
   "id": "37e40f75-2ba4-4b0f-a314-afb754581fe1",
   "metadata": {},
   "outputs": [],
   "source": [
    "# !pip install numpy-financial"
   ]
  },
  {
   "cell_type": "markdown",
   "id": "6534ce8a-7d0e-4de7-bfeb-8888eb63b234",
   "metadata": {},
   "source": [
    "## Imports"
   ]
  },
  {
   "cell_type": "code",
   "execution_count": 79,
   "id": "40c263b2-bf19-400b-9b60-6d182244ee30",
   "metadata": {},
   "outputs": [],
   "source": [
    "import requests\n",
    "\n",
    "# To get analysts info\n",
    "import yahoo_fin.stock_info as si\n",
    "\n",
    "# Required to convert to numeric\n",
    "import pandas as pd\n",
    "\n",
    "# Required to calculate net present value\n",
    "import numpy_financial as npf\n",
    "\n",
    "# For reading properties\n",
    "from jproperties import Properties"
   ]
  },
  {
   "cell_type": "markdown",
   "id": "96275e84-7c2b-46a3-b5b7-9e152b178283",
   "metadata": {},
   "source": [
    "## Load properties"
   ]
  },
  {
   "cell_type": "code",
   "execution_count": 80,
   "id": "76600bc8-ce10-4ed1-88d8-3c472e0b0bdf",
   "metadata": {},
   "outputs": [],
   "source": [
    "configs = Properties()\n",
    "\n",
    "with open('config/av_dcf.properties', 'rb') as config_file:\n",
    "     configs.load(config_file)\n",
    "\n",
    "TICKER = configs.get('TICKER').data\n",
    "# Perpetual growth rates is read as a string; we need to convert it to float\n",
    "PERP_GROWTH_RATE = float(configs.get('PERP_GROWTH_RATE').data)\n",
    "WACC_RATE = float(configs.get('WACC_RATE').data)\n",
    "API_KEY = configs.get('ALPHAV_API_KEY').data"
   ]
  },
  {
   "cell_type": "markdown",
   "id": "704042c1-54e4-4ca6-912c-9d751d6e3cc7",
   "metadata": {},
   "source": [
    "## Constants"
   ]
  },
  {
   "cell_type": "code",
   "execution_count": 81,
   "id": "8b2e0bc0-aaa8-4707-afa0-4e28842bc477",
   "metadata": {},
   "outputs": [],
   "source": [
    "PROJECTION_YEARS = 5\n",
    "BASE_URL = 'https://www.alphavantage.co/query?'"
   ]
  },
  {
   "cell_type": "markdown",
   "id": "bcfab1ca-0d9d-4934-9742-7907ec9d91c0",
   "metadata": {},
   "source": [
    "## Utility method to get data from AV"
   ]
  },
  {
   "cell_type": "code",
   "execution_count": 82,
   "id": "8550d019-5711-49c1-bd6f-265efebdb4a1",
   "metadata": {},
   "outputs": [],
   "source": [
    "def get_response(function):\n",
    "    return requests.get(f'{BASE_URL}function={function}&symbol={TICKER}&apikey={API_KEY}')"
   ]
  },
  {
   "cell_type": "markdown",
   "id": "694d0398-02a3-4d69-92c0-de0e5c49c550",
   "metadata": {},
   "source": [
    "## Get Growth Rate"
   ]
  },
  {
   "cell_type": "code",
   "execution_count": 83,
   "id": "c8bba570-7dda-42d3-bb43-e3b595a28793",
   "metadata": {},
   "outputs": [
    {
     "data": {
      "text/plain": [
       "0.0636"
      ]
     },
     "execution_count": 83,
     "metadata": {},
     "output_type": "execute_result"
    }
   ],
   "source": [
    "growth_est_df = si.get_analysts_info(TICKER)['Growth Estimates']\n",
    "growth_str = growth_est_df[growth_est_df['Growth Estimates'] == 'Next 5 Years (per annum)'][TICKER].iloc[0]\n",
    "growth_rate = round(float(growth_str.rstrip('%')) / 100.0, 4)\n",
    "growth_rate"
   ]
  },
  {
   "cell_type": "markdown",
   "id": "c7116aaf-fa33-4e75-901d-0de250e8f3fd",
   "metadata": {},
   "source": [
    "## Read from Alpha Vantage"
   ]
  },
  {
   "cell_type": "code",
   "execution_count": 84,
   "id": "99609abb-dc22-46ad-aa04-c5717351ddc3",
   "metadata": {},
   "outputs": [],
   "source": [
    "# Income response\n",
    "latest_income_stmt = get_response('INCOME_STATEMENT').json()['annualReports'][0]\n",
    "\n",
    "# Balance sheet response\n",
    "latest_balance_sheet = get_response('BALANCE_SHEET').json()['annualReports'][0]\n",
    "\n",
    "# Cash flow response\n",
    "latest_cash_flow = get_response('CASH_FLOW').json()['annualReports'][0]\n",
    "\n",
    "# Overview for Beta\n",
    "overview = get_response('OVERVIEW').json()"
   ]
  },
  {
   "cell_type": "markdown",
   "id": "4af7bef3-963d-4002-8d96-0bb160c14b7a",
   "metadata": {},
   "source": [
    "## Future Free Cash Flow (FFCF)"
   ]
  },
  {
   "cell_type": "code",
   "execution_count": 85,
   "id": "5ba333b3-11cb-4213-94ee-533919e52e42",
   "metadata": {},
   "outputs": [
    {
     "data": {
      "text/plain": [
       "[118530774800.00002,\n",
       " 126069332077.28003,\n",
       " 134087341597.39505,\n",
       " 142615296522.98938,\n",
       " 151685629381.85153]"
      ]
     },
     "execution_count": 85,
     "metadata": {},
     "output_type": "execute_result"
    }
   ],
   "source": [
    "# Free cash flow = operating cash flow - capital expenditures\n",
    "free_cash_flow = pd.to_numeric(latest_cash_flow['operatingCashflow']) - pd.to_numeric(latest_cash_flow['capitalExpenditures'])\n",
    "\n",
    "ffcf = []\n",
    "# Year 1\n",
    "ffcf.append(free_cash_flow * (1 + growth_rate))\n",
    "\n",
    "# Starting from year 2\n",
    "for i in range(1, PROJECTION_YEARS):\n",
    "    ffcf.append(ffcf[i-1] * (1 + growth_rate))"
   ]
  },
  {
   "cell_type": "markdown",
   "id": "d54fd4ec-d7d5-4dac-a46e-e783ba3cc3c5",
   "metadata": {},
   "source": [
    "## Calculate the Terminal Value"
   ]
  },
  {
   "cell_type": "code",
   "execution_count": 86,
   "id": "5a1fbea7-f93d-45c5-a433-aa8cd698b9b2",
   "metadata": {},
   "outputs": [],
   "source": [
    "# forecast_fcf[-1] refers to the last year in the growth period\n",
    "terminal_value = ffcf[-1] * (1 + PERP_GROWTH_RATE)/(WACC_RATE - PERP_GROWTH_RATE)"
   ]
  },
  {
   "cell_type": "markdown",
   "id": "ad7d2661-811f-4ab3-9763-a8915ec66aac",
   "metadata": {},
   "source": [
    "## Enterprise Valuation"
   ]
  },
  {
   "cell_type": "code",
   "execution_count": 87,
   "id": "45754f99-0f5b-463d-ad61-42c72bf5eec2",
   "metadata": {},
   "outputs": [],
   "source": [
    "# Add the terminal value to the last year\n",
    "ffcf[-1] = ffcf[-1] + terminal_value\n",
    "\n",
    "# Calculate the enterprise_value using npv - add zero or else the method assumes\n",
    "# first value as the initial investment\n",
    "enterprise_value = npf.npv(WACC_RATE, [0] + ffcf)\n",
    "# enterprise_value = sum(pv_ffcf)"
   ]
  },
  {
   "cell_type": "markdown",
   "id": "9825c85f-57d4-4ff5-af57-899c4bbc6207",
   "metadata": {},
   "source": [
    "## Equity Valuation"
   ]
  },
  {
   "cell_type": "code",
   "execution_count": 88,
   "id": "4915ad8d-5498-45ea-9935-c86561e51309",
   "metadata": {},
   "outputs": [],
   "source": [
    "# Calculate Cash And Cash Equivalents\n",
    "cash_and_equivalents = pd.to_numeric(latest_balance_sheet['cashAndCashEquivalentsAtCarryingValue'])\n",
    "\n",
    "# Current debt - only interested in the value\n",
    "current_debt = pd.to_numeric(latest_balance_sheet['currentDebt'])\n",
    "\n",
    "# Long term debt - only interested in the value\n",
    "long_term_debt = pd.to_numeric(latest_balance_sheet['longTermDebt'])\n",
    "\n",
    "# Equity value -> enterprise_value + cash - total debt\n",
    "equity_value = enterprise_value + cash_and_equivalents - (current_debt +  long_term_debt)"
   ]
  },
  {
   "cell_type": "markdown",
   "id": "1be2321d-0691-4456-8e72-7132da2c6bb4",
   "metadata": {},
   "source": [
    "## Intrinsic Valuation"
   ]
  },
  {
   "cell_type": "code",
   "execution_count": 89,
   "id": "e839fef3-c7b8-4b19-a5e2-bbe6ef4d1e83",
   "metadata": {},
   "outputs": [
    {
     "data": {
      "text/plain": [
       "'Current Price: $174.49 Intrinsic Value: $117.15 for ticker AAPL'"
      ]
     },
     "execution_count": 89,
     "metadata": {},
     "output_type": "execute_result"
    }
   ],
   "source": [
    "# Shares outstanding\n",
    "shares_outstanding = pd.to_numeric(overview['SharesOutstanding'])\n",
    "\n",
    "# Current stock price\n",
    "current_value = si.get_live_price(TICKER)\n",
    "\n",
    "# Intrinsic value\n",
    "intrinsic_value = equity_value / shares_outstanding\n",
    "'Current Price: ${:.2f} Intrinsic Value: ${:.2f}'.format(round(current_value,2), round(intrinsic_value,2)) + ' for ticker ' + TICKER"
   ]
  },
  {
   "cell_type": "code",
   "execution_count": 90,
   "id": "f8e971d4-9ef6-4bfc-bb1a-82ac7995bae5",
   "metadata": {},
   "outputs": [
    {
     "data": {
      "text/plain": [
       "'-32.86% for ticker AAPL'"
      ]
     },
     "execution_count": 90,
     "metadata": {},
     "output_type": "execute_result"
    }
   ],
   "source": [
    "upside = (intrinsic_value / current_value) - 1\n",
    "'{:.2%}'.format(round(upside,4)) + ' for ticker ' + TICKER"
   ]
  },
  {
   "cell_type": "code",
   "execution_count": 91,
   "id": "df14565b-9fda-4dc0-8b5c-b0383111dea3",
   "metadata": {},
   "outputs": [
    {
     "name": "stdout",
     "output_type": "stream",
     "text": [
      "SELL\n"
     ]
    }
   ],
   "source": [
    "if intrinsic_value > current_value:\n",
    "    print('BUY')\n",
    "else:\n",
    "    print('SELL')"
   ]
  },
  {
   "cell_type": "markdown",
   "id": "053d0e23-6589-4220-940d-2d13cb4ce637",
   "metadata": {},
   "source": [
    "## Enterprise Valiation - alternative"
   ]
  },
  {
   "cell_type": "code",
   "execution_count": 92,
   "id": "a9dc64e5-fbf9-4c53-92eb-ddc1232beb4b",
   "metadata": {},
   "outputs": [
    {
     "data": {
      "text/plain": [
       "1950361999312.4448"
      ]
     },
     "execution_count": 92,
     "metadata": {},
     "output_type": "execute_result"
    }
   ],
   "source": [
    "# This is another way of calculating PV of FFCF - sum of it should match the npv calculation of npf\n",
    "pv_ffcf = []\n",
    "for idx, cf in enumerate(ffcf):\n",
    "    pv_ffcf.append(cf/(1 + WACC_RATE)**(idx+1))\n",
    "# This is equivalent to enterprise_value value\n",
    "sum(pv_ffcf)"
   ]
  }
 ],
 "metadata": {
  "kernelspec": {
   "display_name": "Python 3 (ipykernel)",
   "language": "python",
   "name": "python3"
  },
  "language_info": {
   "codemirror_mode": {
    "name": "ipython",
    "version": 3
   },
   "file_extension": ".py",
   "mimetype": "text/x-python",
   "name": "python",
   "nbconvert_exporter": "python",
   "pygments_lexer": "ipython3",
   "version": "3.11.4"
  }
 },
 "nbformat": 4,
 "nbformat_minor": 5
}
