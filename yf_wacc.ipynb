{
 "cells": [
  {
   "cell_type": "markdown",
   "id": "6534ce8a-7d0e-4de7-bfeb-8888eb63b234",
   "metadata": {},
   "source": [
    "## Imports"
   ]
  },
  {
   "cell_type": "code",
   "execution_count": 146,
   "id": "40c263b2-bf19-400b-9b60-6d182244ee30",
   "metadata": {},
   "outputs": [],
   "source": [
    "# Read stocks\n",
    "import yfinance as yf\n",
    "\n",
    "# For reading properties\n",
    "from jproperties import Properties"
   ]
  },
  {
   "cell_type": "markdown",
   "id": "96275e84-7c2b-46a3-b5b7-9e152b178283",
   "metadata": {},
   "source": [
    "## Load properties"
   ]
  },
  {
   "cell_type": "code",
   "execution_count": 147,
   "id": "76600bc8-ce10-4ed1-88d8-3c472e0b0bdf",
   "metadata": {},
   "outputs": [],
   "source": [
    "configs = Properties()\n",
    "\n",
    "with open('config/yf_wacc.properties', 'rb') as config_file:\n",
    "     configs.load(config_file)\n",
    "\n",
    "TICKER = configs.get('TICKER').data\n",
    "# Market return is read as a string; we need to convert it to float\n",
    "MKT_RETURN = float(configs.get('MKT_RETURN').data)\n",
    "BOND_TICKER = configs.get('BOND_TICKER').data"
   ]
  },
  {
   "cell_type": "markdown",
   "id": "694d0398-02a3-4d69-92c0-de0e5c49c550",
   "metadata": {},
   "source": [
    "## Read Ticker data"
   ]
  },
  {
   "cell_type": "code",
   "execution_count": 148,
   "id": "c8bba570-7dda-42d3-bb43-e3b595a28793",
   "metadata": {},
   "outputs": [],
   "source": [
    "ticker = yf.Ticker(TICKER)\n",
    "\n",
    "# US Treasury Yield 10 years\n",
    "tnx = yf.Ticker(BOND_TICKER)\n",
    "\n",
    "income_stmt_df = ticker.income_stmt\n",
    "balance_sheet_df = ticker.balance_sheet"
   ]
  },
  {
   "cell_type": "markdown",
   "id": "a946f37a-538f-4c7b-b436-313b7a836301",
   "metadata": {},
   "source": [
    "## Returns the latest non NaN value"
   ]
  },
  {
   "cell_type": "code",
   "execution_count": 149,
   "id": "b8ff688d-4852-4a2d-aa47-4b176dab122a",
   "metadata": {},
   "outputs": [],
   "source": [
    "def get_latest_non_nan(series):\n",
    "    # Get the index of the first non-NaN value\n",
    "    first_non_nan_index = series.first_valid_index()\n",
    "\n",
    "    # Get the first non-NaN value\n",
    "    return series[first_non_nan_index]"
   ]
  },
  {
   "cell_type": "markdown",
   "id": "789f6474-884b-4fef-ac55-c7b91d598378",
   "metadata": {},
   "source": [
    "## Cost of Debt Calculation"
   ]
  },
  {
   "cell_type": "code",
   "execution_count": 150,
   "id": "6581239c-5f48-4bd6-8559-5591c2cb65c0",
   "metadata": {},
   "outputs": [],
   "source": [
    "# Interest Expense\n",
    "interest_expense = get_latest_non_nan(income_stmt_df.loc['Interest Expense'])\n",
    "\n",
    "# Income Tax Expense\n",
    "income_tax = get_latest_non_nan(income_stmt_df.loc['Tax Provision'])\n",
    "\n",
    "# Income before tax\n",
    "income_before_tax = get_latest_non_nan(income_stmt_df.loc['Pretax Income'])\n",
    "\n",
    "# Current debt\n",
    "current_debt = get_latest_non_nan(balance_sheet_df.loc['Current Debt'])\n",
    "\n",
    "# Long term debt\n",
    "long_term_debt = get_latest_non_nan(balance_sheet_df.loc['Long Term Debt'])\n",
    "\n",
    "# Cost of debt\n",
    "cost_of_debt = interest_expense / (current_debt + long_term_debt)\n",
    "\n",
    "# Effective tax rate\n",
    "effective_tax_rate = income_tax / income_before_tax\n",
    "\n",
    "# Cost of debt after tax\n",
    "cost_of_debt_after_tax = cost_of_debt * (1 - effective_tax_rate)"
   ]
  },
  {
   "cell_type": "markdown",
   "id": "ad7d2661-811f-4ab3-9763-a8915ec66aac",
   "metadata": {},
   "source": [
    "## Cost of Equity Calculation"
   ]
  },
  {
   "cell_type": "code",
   "execution_count": 151,
   "id": "4915ad8d-5498-45ea-9935-c86561e51309",
   "metadata": {},
   "outputs": [],
   "source": [
    "# Yield rate\n",
    "risk_free_rate = tnx.info['regularMarketDayHigh']/100\n",
    "\n",
    "# Beta\n",
    "beta = ticker.info['beta']\n",
    "\n",
    "# Cost of equity\n",
    "cost_of_equity = risk_free_rate + (beta * (MKT_RETURN - risk_free_rate))             "
   ]
  },
  {
   "cell_type": "markdown",
   "id": "1e171d2e-0a66-4bfe-a864-938808c29fb3",
   "metadata": {},
   "source": [
    "## Weight of Debt and Equity Calculation"
   ]
  },
  {
   "cell_type": "code",
   "execution_count": 152,
   "id": "b021c5d9-2020-4ab1-af1b-791be928dce1",
   "metadata": {},
   "outputs": [],
   "source": [
    "total_debt = current_debt + long_term_debt\n",
    "\n",
    "market_cap = ticker.info['marketCap']\n",
    "total = total_debt + market_cap\n",
    "\n",
    "# Calculate the weight of debt and equity\n",
    "weight_of_debt = total_debt / total\n",
    "weight_of_equity = market_cap / total"
   ]
  },
  {
   "cell_type": "markdown",
   "id": "d75085ae-9365-4d2b-a466-2217a9c9f68c",
   "metadata": {},
   "source": [
    "## WACC Calculation"
   ]
  },
  {
   "cell_type": "code",
   "execution_count": 158,
   "id": "0495813c-bb83-4388-b595-f85e72e3b190",
   "metadata": {},
   "outputs": [
    {
     "data": {
      "text/plain": [
       "'7.99% for ticker: MSFT'"
      ]
     },
     "execution_count": 158,
     "metadata": {},
     "output_type": "execute_result"
    }
   ],
   "source": [
    "wacc = (weight_of_debt * cost_of_debt_after_tax) + (weight_of_equity * cost_of_equity)\n",
    "'{:.2%}'.format(round(wacc,4)) + ' for ticker: ' + TICKER"
   ]
  },
  {
   "cell_type": "code",
   "execution_count": null,
   "id": "fda82ac1-7cae-4d06-b5ac-44126fe580aa",
   "metadata": {},
   "outputs": [],
   "source": []
  }
 ],
 "metadata": {
  "kernelspec": {
   "display_name": "Python 3 (ipykernel)",
   "language": "python",
   "name": "python3"
  },
  "language_info": {
   "codemirror_mode": {
    "name": "ipython",
    "version": 3
   },
   "file_extension": ".py",
   "mimetype": "text/x-python",
   "name": "python",
   "nbconvert_exporter": "python",
   "pygments_lexer": "ipython3",
   "version": "3.11.4"
  }
 },
 "nbformat": 4,
 "nbformat_minor": 5
}
